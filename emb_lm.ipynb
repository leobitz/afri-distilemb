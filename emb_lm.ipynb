{
 "cells": [
  {
   "cell_type": "code",
   "execution_count": 1,
   "id": "9801889d",
   "metadata": {},
   "outputs": [
    {
     "name": "stdout",
     "output_type": "stream",
     "text": [
      "🚨 `postive_embeddings` is part of BertForEmbeddingLM.forward's signature, but not documented. Make sure to add it to the docstring of the function in /home/leo/project/distil-research/distilemb/modeling_distill_emb.py.\n"
     ]
    }
   ],
   "source": [
    "from modeling_distill_emb import BertForEmbeddingLM\n",
    "import random\n",
    "from tokenizer import CharTokenizer as Tokenizer"
   ]
  },
  {
   "cell_type": "code",
   "execution_count": 2,
   "id": "4e31328a",
   "metadata": {},
   "outputs": [],
   "source": [
    "tokenizer = Tokenizer('tokenizer/charset.json', max_word_length=12)"
   ]
  },
  {
   "cell_type": "code",
   "execution_count": null,
   "id": "87270a22",
   "metadata": {},
   "outputs": [
    {
     "name": "stdout",
     "output_type": "stream",
     "text": [
      "5448921\n"
     ]
    }
   ],
   "source": [
    "file = \"pretrained-data/afriberta_train.txt\"\n",
    "lines = []\n",
    "with open(file, \"r\") as f:\n",
    "    for line in f:\n",
    "        line = line.strip()\n",
    "        if len(line) > 0:\n",
    "            lines.append(line)\n",
    "\n",
    "\n"
   ]
  }
 ],
 "metadata": {
  "kernelspec": {
   "display_name": "py11",
   "language": "python",
   "name": "python3"
  },
  "language_info": {
   "codemirror_mode": {
    "name": "ipython",
    "version": 3
   },
   "file_extension": ".py",
   "mimetype": "text/x-python",
   "name": "python",
   "nbconvert_exporter": "python",
   "pygments_lexer": "ipython3",
   "version": "3.11.11"
  }
 },
 "nbformat": 4,
 "nbformat_minor": 5
}
