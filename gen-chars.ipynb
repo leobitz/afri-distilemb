{
 "cells": [
  {
   "cell_type": "code",
   "execution_count": 1,
   "id": "e5b5241d",
   "metadata": {},
   "outputs": [],
   "source": [
    "import json\n",
    "import emoji\n",
    "import os"
   ]
  },
  {
   "cell_type": "code",
   "execution_count": 2,
   "id": "960532f8",
   "metadata": {},
   "outputs": [],
   "source": [
    "dataset_path = \"./pretrained-data/afriberta_train.txt\"\n",
    "char2freq = {}\n",
    "# read all characters in the file\n",
    "with open(dataset_path, \"r\", encoding=\"utf-8\") as file:\n",
    "    for line in file:\n",
    "        # split the line into words\n",
    "        text = line.strip()\n",
    "        for char in text:\n",
    "            if char not in char2freq:\n",
    "                char2freq[char] = 0\n",
    "            char2freq[char] += 1\n",
    "# sort characters by frequency\n",
    "sorted_chars = sorted(char2freq.items(), key=lambda item: item[1], reverse=True)"
   ]
  },
  {
   "cell_type": "code",
   "execution_count": 3,
   "id": "87959a9c",
   "metadata": {},
   "outputs": [],
   "source": [
    "\n",
    "\n",
    "filtered_chars = [(c, freq) for c, freq in sorted_chars if not (repr(c).startswith(\"'\\\\u\") or repr(c).startswith(\"'\\\\x\"))]\n",
    "emojis = [(c, freq) for c, freq in filtered_chars if  emoji.is_emoji(c)]\n",
    "true_chars = [(c, freq) for c, freq in filtered_chars if not emoji.is_emoji(c)]"
   ]
  },
  {
   "cell_type": "code",
   "execution_count": 4,
   "id": "a6a46300",
   "metadata": {},
   "outputs": [],
   "source": [
    "valid_chars = true_chars[1:1001] + emojis\n",
    "valid_chars = sorted([p[0] for p in valid_chars])"
   ]
  },
  {
   "cell_type": "code",
   "execution_count": 5,
   "id": "de538b0c",
   "metadata": {},
   "outputs": [],
   "source": [
    "special_chars = sorted([p[0] for p in true_chars[1002:1100]])[:7]"
   ]
  },
  {
   "cell_type": "code",
   "execution_count": 6,
   "id": "4993134a",
   "metadata": {},
   "outputs": [],
   "source": [
    "special_chars_mapping = {\n",
    "    \"wpad\": \" \",\n",
    "    \"unk\": special_chars[0],\n",
    "    \"bos\": special_chars[1],\n",
    "    \"eos\": special_chars[2],\n",
    "    \"sep\": special_chars[3],\n",
    "    \"cls\": special_chars[4],\n",
    "    \"mask\": special_chars[5],\n",
    "    \"pad\": special_chars[6],\n",
    "}\n",
    "special_char2name = {v: k for k, v in special_chars_mapping.items()}"
   ]
  },
  {
   "cell_type": "code",
   "execution_count": 7,
   "id": "7ce916ec",
   "metadata": {},
   "outputs": [
    {
     "data": {
      "text/plain": [
       "{' ': 'wpad',\n",
       " 'µ': 'unk',\n",
       " 'Î': 'bos',\n",
       " 'Ñ': 'eos',\n",
       " 'Ô': 'sep',\n",
       " 'Õ': 'cls',\n",
       " 'ŏ': 'mask',\n",
       " 'ő': 'pad'}"
      ]
     },
     "execution_count": 7,
     "metadata": {},
     "output_type": "execute_result"
    }
   ],
   "source": [
    "special_char2name"
   ]
  },
  {
   "cell_type": "code",
   "execution_count": 8,
   "id": "45be5c6b",
   "metadata": {},
   "outputs": [],
   "source": [
    "valid_chars_mapping = {c: i for i, c in enumerate(valid_chars)}\n",
    "for k, v in special_chars_mapping.items():\n",
    "    valid_chars_mapping[v] = len(valid_chars_mapping)\n",
    "valid_char2id = {k: v for k, v in sorted(valid_chars_mapping.items(), key=lambda item: item[1])}\n",
    "valid_id2char = {v: k for k, v in valid_char2id.items()}"
   ]
  },
  {
   "cell_type": "code",
   "execution_count": 9,
   "id": "a2dfc390",
   "metadata": {},
   "outputs": [],
   "source": [
    "special_token2char = {\n",
    "    '[WPAD]': special_chars_mapping['pad'],\n",
    "    '[UNK]': special_chars_mapping['unk'],\n",
    "    '[BOS]': special_chars_mapping['bos'],\n",
    "    '[EOS]': special_chars_mapping['eos'],\n",
    "    '[SEP]': special_chars_mapping['sep'],\n",
    "    '[CLS]': special_chars_mapping['cls'],\n",
    "    '[MASK]': special_chars_mapping['mask'],\n",
    "    '[PAD]': special_chars_mapping['pad'],\n",
    "}"
   ]
  },
  {
   "cell_type": "code",
   "execution_count": 11,
   "id": "6128cddc",
   "metadata": {},
   "outputs": [],
   "source": [
    "charset = {\n",
    "    \"valid_char2id\": valid_char2id,\n",
    "    \"valid_id2char\": valid_id2char,\n",
    "    \"special_char2name\": special_char2name,\n",
    "    \"special_name2char\": special_chars_mapping,\n",
    "    \"special_token2char\": special_token2char,\n",
    "}\n",
    "if not os.path.exists(\"tokenizer\"):\n",
    "    os.makedirs(\"tokenizer\", exist_ok=True)\n",
    "with open(\"tokenizer/charset.json\", \"w\", encoding=\"utf-8\") as f:\n",
    "    json.dump(charset, f, ensure_ascii=False, indent=4)"
   ]
  },
  {
   "cell_type": "code",
   "execution_count": null,
   "id": "6b619e77",
   "metadata": {},
   "outputs": [],
   "source": []
  }
 ],
 "metadata": {
  "kernelspec": {
   "display_name": "py11",
   "language": "python",
   "name": "python3"
  },
  "language_info": {
   "codemirror_mode": {
    "name": "ipython",
    "version": 3
   },
   "file_extension": ".py",
   "mimetype": "text/x-python",
   "name": "python",
   "nbconvert_exporter": "python",
   "pygments_lexer": "ipython3",
   "version": "3.11.11"
  }
 },
 "nbformat": 4,
 "nbformat_minor": 5
}
